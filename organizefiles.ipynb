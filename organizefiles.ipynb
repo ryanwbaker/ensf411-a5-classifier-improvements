{
 "cells": [
  {
   "cell_type": "code",
   "execution_count": 55,
   "metadata": {},
   "outputs": [],
   "source": [
    "import os\n",
    "import random\n",
    "from pathlib import Path\n",
    "\n"
   ]
  },
  {
   "cell_type": "code",
   "execution_count": 56,
   "metadata": {},
   "outputs": [],
   "source": [
    "# initialize list variables\n",
    "sets = ['train', 'valid']\n",
    "fingers = [{'name': 'one', 'count':0}, {'name': 'two', 'count':0}, {'name': 'three', 'count':0}, {'name': 'four', 'count':0}, {'name': 'five', 'count':0}]"
   ]
  },
  {
   "cell_type": "markdown",
   "metadata": {},
   "source": [
    "Create Final Directories"
   ]
  },
  {
   "cell_type": "code",
   "execution_count": 57,
   "metadata": {},
   "outputs": [],
   "source": [
    "if os.path.exists('digits') == False:\n",
    "    os.mkdir('digits')\n",
    "for set in sets:\n",
    "    if os.path.exists('digits/'+set) == False:\n",
    "        os.mkdir('digits/'+set)\n",
    "    for finger in fingers:\n",
    "        if os.path.exists('digits/'+set+'/'+finger['name']) == False:\n",
    "            os.mkdir('digits/'+set+'/'+finger['name'])"
   ]
  },
  {
   "cell_type": "code",
   "execution_count": 77,
   "metadata": {},
   "outputs": [
    {
     "name": "stdout",
     "output_type": "stream",
     "text": [
      "Finger: one, Count: 1016\n",
      "Finger: two, Count: 996\n",
      "Finger: three, Count: 930\n",
      "Finger: four, Count: 877\n",
      "Finger: five, Count: 910\n"
     ]
    }
   ],
   "source": [
    "for finger in fingers:\n",
    "    finger['count'] = 0\n",
    "for root, dirs, files in os.walk('digit_photos'):\n",
    "    for file in files:\n",
    "        for finger in fingers:\n",
    "            if root.find(finger['name']) > -1:\n",
    "                finger['count'] += 1\n",
    "\n",
    "for finger in fingers:\n",
    "    print(f\"Finger: {finger['name']}, Count: {finger['count']}\")"
   ]
  },
  {
   "cell_type": "markdown",
   "metadata": {},
   "source": [
    "Min number of images: 966\n",
    "\n",
    "We want 10% to go to the validation set and create a balanced count of images for each label\n",
    "\n",
    "Therefore: 870 images go to training, and 96 images go to validation for each label. Any additional images will be excluded."
   ]
  },
  {
   "cell_type": "code",
   "execution_count": 99,
   "metadata": {},
   "outputs": [
    {
     "name": "stdout",
     "output_type": "stream",
     "text": [
      "<generator object _walk at 0x000001404638CDD0>\n"
     ]
    }
   ],
   "source": [
    "# reset counts\n",
    "for finger in fingers:\n",
    "    finger['count'] = 0\n",
    "\n",
    "test = os.walk('digits')\n",
    "os.walk.\n",
    "\n",
    "# for root, dirs, files in os.walk('digits'):\n",
    "#     print(type(files))\n",
    "    # for filelist in files:\n",
    "        # print(files)\n",
    "        # for finger in fingers:\n",
    "        #     if root.lower().find(finger['name']) > -1 and :\n",
    "        #         print(f\"Renamed file {root +'/' + file} to digits/train/{finger['name']}/{finger['count']:08}.jpg\")\n",
    "        #         # Path(root+'/'+file).rename('digits/train/'+finger['name']+'/'+f\"{finger['count']:08}.jpg\")\n",
    "        #         finger['count'] += 1"
   ]
  },
  {
   "cell_type": "code",
   "execution_count": 103,
   "metadata": {},
   "outputs": [
    {
     "name": "stdout",
     "output_type": "stream",
     "text": [
      "Finger: one, Count: 97\n",
      "Finger: two, Count: 97\n",
      "Finger: three, Count: 97\n",
      "Finger: four, Count: 97\n",
      "Finger: five, Count: 97\n"
     ]
    }
   ],
   "source": [
    "# reset counts\n",
    "for finger in fingers:\n",
    "    finger['count'] = 0\n",
    "\n",
    "for ind, (root, dirs, files) in enumerate(os.walk('digits')):\n",
    "    if len(files) > 0:\n",
    "        file_sample = random.sample(files, 96)\n",
    "        for file in file_sample:\n",
    "            for finger in fingers:\n",
    "                if root.lower().find(finger['name']) > -1 and finger['count'] <= 96:\n",
    "                    # print(f\"Renamed file {root +'/' + file} to digits/valid/{finger['name']}/{finger['count']:08}.jpg\")\n",
    "                    Path(root+'/'+file).rename('digits/valid/'+finger['name']+'/'+f\"{finger['count']:08}.jpg\")\n",
    "                    finger['count'] += 1\n",
    "\n",
    "for finger in fingers:\n",
    "    print(f\"Finger: {finger['name']}, Count: {finger['count']}\")"
   ]
  },
  {
   "cell_type": "code",
   "execution_count": 105,
   "metadata": {},
   "outputs": [],
   "source": [
    "for ind, (root, dirs, files) in enumerate(os.walk('digits')):\n",
    "    count = 0\n",
    "    for file in files:\n",
    "        if file == f\"{count:08}.jpg\":\n",
    "            count += 1\n",
    "        else:\n",
    "            Path(root+'/'+file).rename(root+'/'+f\"{count:08}.jpg\")\n",
    "            count += 1"
   ]
  }
 ],
 "metadata": {
  "interpreter": {
   "hash": "8756a9b3184373871a385012359bf26f9b125e6aa121db4368f00856dac9e85f"
  },
  "kernelspec": {
   "display_name": "Python 3.9.7 ('ensf411')",
   "language": "python",
   "name": "python3"
  },
  "language_info": {
   "codemirror_mode": {
    "name": "ipython",
    "version": 3
   },
   "file_extension": ".py",
   "mimetype": "text/x-python",
   "name": "python",
   "nbconvert_exporter": "python",
   "pygments_lexer": "ipython3",
   "version": "3.9.7"
  },
  "orig_nbformat": 4
 },
 "nbformat": 4,
 "nbformat_minor": 2
}
