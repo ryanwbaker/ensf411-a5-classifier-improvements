{
 "cells": [
  {
   "cell_type": "markdown",
   "metadata": {},
   "source": [
    "# 1. Introduction\n",
    "\n",
    "- Chose to use more data (option 2: \"Share and grab more data\"). Note that the data in the provided OneDrive folder was available under a [Attribution-NonCommercial-ShareAlike 4.0 International (CC BY-NC-SA 4.0)](https://creativecommons.org/licenses/by-nc-sa/4.0/) license.\n",
    "- \n"
   ]
  },
  {
   "cell_type": "markdown",
   "metadata": {},
   "source": [
    "# 2. Model training and Results\n",
    "Any code to train a model and produce results or a reference to the notebook/code file."
   ]
  },
  {
   "cell_type": "code",
   "execution_count": null,
   "metadata": {},
   "outputs": [],
   "source": [
    "# ran from colab\n",
    "\n",
    "!pip install -q fastbook\n",
    "\n",
    "import fastbook\n",
    "fastbook.setup_book()\n",
    "\n",
    "from fastai.vision.all import *\n",
    "\n",
    "path = Path('/content/gdrive/MyDrive/ColabNotebooks/digits')\n",
    "\n",
    "seed_val = 25\n",
    "set_seed(seed_val)\n",
    "\n",
    "def get_parent_as_list(x): return [parent_label(x)]\n",
    "fingers = DataBlock(\n",
    "    blocks=(ImageBlock, CategoryBlock), #image->discrete category\n",
    "    # blocks=(ImageBlock, MultiCategoryBlock), #image->discrete category\n",
    "    get_items=get_image_files, # path->images\n",
    "    splitter=GrandparentSplitter(train_name='train', valid_name='valid'), #40 training, 10 validation images per finger\n",
    "    get_y=parent_label, # get the label from the directory name\n",
    "    # get_y=get_parent_as_list, # get the label from the directory name\n",
    "    item_tfms=Resize(640, ResizeMethod.Squish), # resize to 640x640 px; use Squish so fingers aren't cropped\n",
    "    batch_tfms=aug_transforms(size=420, flip_vert=False, max_zoom=1.0, min_zoom=1.0, max_rotate=5)) #a set of transformations like  rotation, flipping, perspective warping, brightness changes and contrast changes\n",
    "\n",
    "dls = fingers.dataloaders(path, bs=32)\n",
    "\n",
    "dls.train.show_batch(unique=True)\n",
    "dls.valid.show_batch(unique=True)\n",
    "\n",
    "set_seed(seed_val)\n",
    "\n",
    "learn = cnn_learner(dls, resnet18, metrics=accuracy)\n",
    "\n",
    "lr_min, lr_steep, lr_valley, lr_slide = learn.lr_find(suggest_funcs=(minimum, steep, valley, slide))\n",
    "\n",
    "# chose lr_min instead of lr_steep because steep was on the very far left side of the curve and produced poor results (<20% accuracy)\n",
    "learn.fine_tune(6, base_lr=lr_min)\n",
    "\n",
    "learn.export(path/'../lab4_finger_count_fine_tuned.pkl')"
   ]
  },
  {
   "cell_type": "markdown",
   "metadata": {},
   "source": [
    "# 3. Summary and Conclusion\n",
    "Summarize your new results and state your lab3 and lab4 results.\n",
    "\n",
    "\n",
    "Conclusion: How large is the improvement in the performance of the classifier due to the approach chosen? Include your interpretation why it worked (or did not work)."
   ]
  },
  {
   "cell_type": "markdown",
   "metadata": {},
   "source": [
    "# 4. Reflection\n",
    "Include a sentence or two about\n",
    "- what you liked or disliked,\n",
    "- found interesting, confusing, challangeing, motivating\n",
    "\n",
    "while working on this assignment.\n",
    "\n",
    "*YOUR ANSWER HERE*\n",
    "\n"
   ]
  },
  {
   "cell_type": "code",
   "execution_count": null,
   "metadata": {},
   "outputs": [],
   "source": []
  }
 ],
 "metadata": {
  "kernelspec": {
   "display_name": "Python 3 (ipykernel)",
   "language": "python",
   "name": "python3"
  },
  "language_info": {
   "codemirror_mode": {
    "name": "ipython",
    "version": 3
   },
   "file_extension": ".py",
   "mimetype": "text/x-python",
   "name": "python",
   "nbconvert_exporter": "python",
   "pygments_lexer": "ipython3",
   "version": "3.9.7"
  }
 },
 "nbformat": 4,
 "nbformat_minor": 4
}
